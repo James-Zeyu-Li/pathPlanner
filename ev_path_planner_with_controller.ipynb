{
 "cells": [
  {
   "cell_type": "markdown",
   "metadata": {},
   "source": [
    "## Act as the main for the backend code"
   ]
  },
  {
   "cell_type": "code",
   "execution_count": 26,
   "metadata": {},
   "outputs": [
    {
     "name": "stdout",
     "output_type": "stream",
     "text": [
      "Data loaded successfully.\n",
      "Path planner initialized.\n"
     ]
    }
   ],
   "source": [
    "import sys\n",
    "from pathlib import Path\n",
    "from backend.controller_notebook import (\n",
    "    load_data,\n",
    "    initialize_planner,\n",
    "    find_path,\n",
    "    prepare_segments,\n",
    "    load_vehicle_params,\n",
    "    optimize_strategy,\n",
    ")\n",
    "\n",
    "# Add backend to sys.path\n",
    "backend_path = Path(\"./backend\").resolve()\n",
    "sys.path.insert(0, str(backend_path))\n",
    "\n",
    "# File paths\n",
    "DATA_DIR = Path(\"./backend/data\")\n",
    "NODES_FILE = DATA_DIR / \"nodes.json\"\n",
    "GRAPH_FILE = DATA_DIR / \"graph.json\"\n",
    "CARS_FILE = DATA_DIR / \"Cars.json\"\n",
    "\n",
    "# Load data\n",
    "nodes, graph = load_data(NODES_FILE, GRAPH_FILE)\n",
    "print(\"Data loaded successfully.\")\n",
    "\n",
    "# Test path planner\n",
    "planner = initialize_planner(nodes, graph)\n",
    "print(\"Path planner initialized.\")\n"
   ]
  },
  {
   "cell_type": "markdown",
   "metadata": {},
   "source": [
    "-------------configuration section------------- --> The following section can be altered to test starting point and end point.\n"
   ]
  },
  {
   "cell_type": "code",
   "execution_count": 27,
   "metadata": {},
   "outputs": [],
   "source": [
    "# Define start and end cities\n",
    "# Vancouver, Prince George, Chilliwack, Merritt, Banff, Clearwater, Jasper, Edson, Calgary, and Edmonton\n",
    "# Vancouver and Calgary as default. If 2 Cities are Too close, the path will result in no charging needed.\n",
    "start_city = \"Vancouver\"\n",
    "end_city = \"Calgary\"\n",
    "\n",
    "# Model3LR, Cybertruck is  available\n",
    "car_type = \"Model3LR\""
   ]
  },
  {
   "cell_type": "markdown",
   "metadata": {},
   "source": [
    "------------- end of configuration block -------------"
   ]
  },
  {
   "cell_type": "code",
   "execution_count": null,
   "metadata": {},
   "outputs": [
    {
     "name": "stdout",
     "output_type": "stream",
     "text": [
      "Shortest Path: ['Vancouver', 'Abbotsford', 'Chilliwack', 'Hope', 'Fraser Valley B', 'Fraser Valley C', 'Lake Louise', 'Banff', 'Canmore', 'Kananaskis', 'Calgary']\n",
      "Total Distance: 772.78\n"
     ]
    }
   ],
   "source": [
    "# Load nodes and graph\n",
    "nodes, graph = load_data(NODES_FILE, GRAPH_FILE)\n",
    "# Initialize path planner\n",
    "planner = initialize_planner(nodes, graph)\n",
    "# Find the shortest path\n",
    "shortest_path, total_distance, _ = find_path(planner, start_city, end_city)\n",
    "print(\"Shortest Path:\", shortest_path)\n",
    "print(\"Total Distance:\", total_distance)\n",
    "\n",
    "# Prepare segments\n",
    "segment_distances = prepare_segments(shortest_path, graph)\n",
    "\n",
    "# This section prints the list of nodes visited in the shortest path in order"
   ]
  },
  {
   "cell_type": "code",
   "execution_count": 29,
   "metadata": {},
   "outputs": [
    {
     "name": "stdout",
     "output_type": "stream",
     "text": [
      "Segment Distances:\n",
      "From Vancouver to next station, Distance: 55.0 km\n",
      "From Abbotsford to next station, Distance: 34.17 km\n",
      "From Chilliwack to next station, Distance: 43.04 km\n",
      "From Hope to next station, Distance: 44.98 km\n",
      "From Fraser Valley B to next station, Distance: 207.67 km\n",
      "From Fraser Valley C to next station, Distance: 207.0 km\n",
      "From Lake Louise to next station, Distance: 51.12 km\n",
      "From Banff to next station, Distance: 19.43 km\n",
      "From Canmore to next station, Distance: 27.96 km\n",
      "From Kananaskis to next station, Distance: 82.41 km\n",
      "Optimal final SoC found: 0 with minimum time: 7.9601901098901084\n",
      "Reconstructed optimal path successfully.\n",
      "\n",
      "Optimal Charging Strategy:\n",
      "At Fraser Valley C, charged from 20% to 40%, charged 20%\n",
      "At Lake Louise, charged from 0% to 10%, charged 10%\n",
      "At Kananaskis, charged from 0% to 10%, charged 10%\n",
      "Total Travel Time (Optimal): 7.96 hours\n",
      "\n",
      "Traditional Charging Strategy:\n",
      "At Fraser Valley C, charged from 20% to 100%, charged 80%\n",
      "Total Travel Time (Traditional): 8.39 hours\n",
      "\n",
      "Time Savings Compared to Traditional Fill-Up Strategy: 0.43 hours (5.11% reduction)\n"
     ]
    }
   ],
   "source": [
    "# Load vehicle parameters\n",
    "vehicle_params = load_vehicle_params(CARS_FILE, car_type)\n",
    "\n",
    "\n",
    "# Optimize charging strategy\n",
    "optimal, traditional = optimize_strategy(segment_distances, vehicle_params)\n",
    "\n",
    "# Print optimal strategy\n",
    "optimal_strategy, total_time_optimal, _, _ = optimal\n",
    "print(\"\\nOptimal Charging Strategy:\")\n",
    "for step in optimal_strategy:\n",
    "    if step['charge_amount'] > 0:\n",
    "        print(\n",
    "            f\"At {step['station']}, charged from \"\n",
    "            f\"{step['departure_soc'] - step['charge_amount']}% \"\n",
    "            f\"to {step['departure_soc']}%, charged {step['charge_amount']}%\"\n",
    "        )\n",
    "print(f\"Total Travel Time (Optimal): {total_time_optimal:.2f} hours\")\n",
    "\n",
    "# Print traditional strategy\n",
    "traditional_strategy_result, total_time_traditional, _, _ = traditional\n",
    "print(\"\\nTraditional Charging Strategy:\")\n",
    "for step in traditional_strategy_result:\n",
    "    print(\n",
    "        f\"At {step['station']}, charged from \"\n",
    "        f\"{step['departure_soc'] - step['charge_amount']}% \"\n",
    "        f\"to {step['departure_soc']}%, charged {step['charge_amount']}%\"\n",
    "    )\n",
    "print(f\"Total Travel Time (Traditional): {total_time_traditional:.2f} hours\")\n",
    "time_savings = total_time_traditional - total_time_optimal\n",
    "time_savings_percentage = 1 - (total_time_optimal / total_time_traditional)\n",
    "print(f\"\\nTime Savings Compared to Traditional Fill-Up Strategy: {time_savings:.2f} hours ({time_savings_percentage:.2%} reduction)\")\n"
   ]
  }
 ],
 "metadata": {
  "kernelspec": {
   "display_name": "Python [conda env:base] *",
   "language": "python",
   "name": "conda-base-py"
  },
  "language_info": {
   "codemirror_mode": {
    "name": "ipython",
    "version": 3
   },
   "file_extension": ".py",
   "mimetype": "text/x-python",
   "name": "python",
   "nbconvert_exporter": "python",
   "pygments_lexer": "ipython3",
   "version": "3.12.7"
  }
 },
 "nbformat": 4,
 "nbformat_minor": 4
}
